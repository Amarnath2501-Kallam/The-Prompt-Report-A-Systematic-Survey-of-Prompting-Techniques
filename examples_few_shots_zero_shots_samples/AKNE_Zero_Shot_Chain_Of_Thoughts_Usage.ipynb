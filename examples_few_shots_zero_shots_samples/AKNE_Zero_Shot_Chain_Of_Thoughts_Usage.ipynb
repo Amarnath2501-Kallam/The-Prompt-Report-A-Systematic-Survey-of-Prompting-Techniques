{
  "cells": [
    {
      "cell_type": "markdown",
      "metadata": {
        "id": "s8cnkj2o7Op9"
      },
      "source": [
        "<a target=\"_blank\" href=\"https://colab.research.google.com/github/sarthakrastogi/quality-prompts/blob/main/examples/zero_shot_cot_usage.ipynb\">\n",
        "  <img src=\"https://colab.research.google.com/assets/colab-badge.svg\" alt=\"Open In Colab\"/>\n",
        "</a>"
      ]
    },
    {
      "cell_type": "code",
      "execution_count": 1,
      "metadata": {
        "id": "acxoeF-O7Op-"
      },
      "outputs": [],
      "source": [
        "%%capture\n",
        "!pip install quality-prompts"
      ]
    },
    {
      "cell_type": "code",
      "execution_count": 2,
      "metadata": {
        "id": "-H-UzX2q7Op-"
      },
      "outputs": [],
      "source": [
        "import os\n",
        "\n",
        "from quality_prompts.prompt import QualityPrompt\n",
        "from quality_prompts.utils.llm import llm_call"
      ]
    },
    {
      "cell_type": "code",
      "execution_count": 3,
      "metadata": {
        "id": "KQEC7Te17Op_"
      },
      "outputs": [],
      "source": [
        "os.environ['OPENAI_API_KEY'] = \"YOUR_KEY_GOES_HERE\""
      ]
    },
    {
      "cell_type": "markdown",
      "metadata": {
        "id": "hAtAnR0s7Op_"
      },
      "source": [
        "# Example 1: Tabular Chain of Thought Prompting"
      ]
    },
    {
      "cell_type": "markdown",
      "metadata": {
        "id": "fRXi2ZUI7Op_"
      },
      "source": [
        "### Define your prompt's components and initialise it"
      ]
    },
    {
      "cell_type": "code",
      "execution_count": 4,
      "metadata": {
        "id": "xkYDK3po7Op_"
      },
      "outputs": [],
      "source": [
        "directive = \"\"\"Solve the given math problem\"\"\"\n",
        "prompt = QualityPrompt(directive=directive)"
      ]
    },
    {
      "cell_type": "code",
      "execution_count": 5,
      "metadata": {
        "id": "gqgv9PFy7Op_"
      },
      "outputs": [],
      "source": [
        "input_text = \"\"\"Jackson is planting tulips. He can fit 6 red tulips in a row and 8 blue\n",
        "tulips in a row. If Jackson buys 36 red tulips and 24 blue tulips, how\n",
        "many rows of flowers will he plant?\"\"\""
      ]
    },
    {
      "cell_type": "markdown",
      "metadata": {
        "id": "kW4C7J5I7Op_"
      },
      "source": [
        "### Apply Tabular Chain of Thought prompting"
      ]
    },
    {
      "cell_type": "code",
      "execution_count": 6,
      "metadata": {
        "id": "E_oIkXPc7Op_",
        "outputId": "52203cd3-e8ad-4bbd-b539-7a6f1cadd63b",
        "colab": {
          "base_uri": "https://localhost:8080/"
        }
      },
      "outputs": [
        {
          "output_type": "stream",
          "name": "stdout",
          "text": [
            "Solve the given math problem\n",
            "        Think through the problem step by step to solve it.\n",
            "        At each step, you have to figure out:\n",
            "        - the step number,\n",
            "        - the sub-question to be answered in that step,\n",
            "        - the thought process of solving that step, and\n",
            "        - the result of solving that step.\n",
            "    \n",
            "        \n",
            "        \n",
            "        \n",
            "        Respond in the following markdown table format for each step:\n",
            "        |step|subquestion|process|result|\n",
            "    \n",
            "        \n"
          ]
        }
      ],
      "source": [
        "prompt.tabular_chain_of_thought_prompting(input_text=input_text)\n",
        "compiled_quality_prompt = prompt.compile()\n",
        "print(compiled_quality_prompt)"
      ]
    },
    {
      "cell_type": "markdown",
      "metadata": {
        "id": "1m4TDhHB7OqA"
      },
      "source": [
        "### Test the compiled prompt"
      ]
    },
    {
      "cell_type": "code",
      "execution_count": 7,
      "metadata": {
        "id": "zZh1Lzq07OqA",
        "outputId": "894848f0-acc7-450b-ce1c-a8dd3cc7fa4e",
        "colab": {
          "base_uri": "https://localhost:8080/"
        }
      },
      "outputs": [
        {
          "output_type": "stream",
          "name": "stdout",
          "text": [
            "|step|subquestion|process|result|\n",
            "|-|-|-|-|\n",
            "|1|Find out how many rows of red tulips Jackson will plant.|To find out how many rows of red tulips Jackson will plant, divide the total number of red tulips he bought (36) by the number of red tulips that can fit in a row (6).|36 red tulips ÷ 6 red tulips/row = 6 rows|\n",
            "|2|Find out how many rows of blue tulips Jackson will plant.|To find out how many rows of blue tulips Jackson will plant, divide the total number of blue tulips he bought (24) by the number of blue tulips that can fit in a row (8).|24 blue tulips ÷ 8 blue tulips/row = 3 rows|\n",
            "|3|Calculate the total number of rows of flowers Jackson will plant.|To calculate the total number of rows of flowers he will plant, add the rows of red tulips (6) and the rows of blue tulips (3).|6 rows (red tulips) + 3 rows (blue tulips) = 9 rows| \n",
            "\n",
            "Therefore, Jackson will plant a total of 9 rows of flowers.\n"
          ]
        }
      ],
      "source": [
        "messages = [{\"role\" : \"system\", \"content\" : compiled_quality_prompt},\n",
        "            {\"role\" : \"user\", \"content\" : input_text}]\n",
        "response = llm_call(messages)\n",
        "print(response)"
      ]
    },
    {
      "cell_type": "markdown",
      "metadata": {
        "id": "edvD3Wcl7OqA"
      },
      "source": [
        "# Example 2: Step back prompting"
      ]
    },
    {
      "cell_type": "code",
      "execution_count": 8,
      "metadata": {
        "id": "5fOqmC2v7OqA"
      },
      "outputs": [],
      "source": [
        "directive = \"\"\"Solve the given math problem\"\"\"\n",
        "prompt = QualityPrompt(\n",
        "                        directive=directive,\n",
        "                        additional_information=\"\",\n",
        "                       )"
      ]
    },
    {
      "cell_type": "code",
      "execution_count": 9,
      "metadata": {
        "id": "DEzPD8q_7OqA"
      },
      "outputs": [],
      "source": [
        "input_text = \"\"\"What happens to the pressure, P, of an ideal gas if\n",
        "the temperature is increased by a factor of 2 and the\n",
        "volume is increased by a factor of 8 ?\"\"\""
      ]
    },
    {
      "cell_type": "markdown",
      "metadata": {
        "id": "sWZRfrGl7OqA"
      },
      "source": [
        "### Apply Step Back Prompting"
      ]
    },
    {
      "cell_type": "code",
      "execution_count": 10,
      "metadata": {
        "id": "9dJ2ssAW7OqA",
        "outputId": "351ffea4-ac8e-4d70-f2b8-3943f2eb579e",
        "colab": {
          "base_uri": "https://localhost:8080/"
        }
      },
      "outputs": [
        {
          "output_type": "stream",
          "name": "stdout",
          "text": [
            "Solve the given math problem\n",
            "        Question: How does the pressure of an ideal gas relate to changes in temperature and volume according to the gas laws?\n",
            "                                            Answer: The pressure of an ideal gas is related to changes in temperature and volume according to the gas laws, specifically Boyle's Law, Charles's Law, and the combined gas law.\n",
            "\n",
            "1. Boyle's Law states that the pressure of a gas is inversely proportional to its volume, at constant temperature. In other words, if the volume of a gas decreases, the pressure increases, and vice versa. Mathematically, Boyle's Law is expressed as:\n",
            "\n",
            "\\[ P_1V_1 = P_2V_2 \\]\n",
            "\n",
            "Where \\(P_1\\) and \\(V_1\\) are the initial pressure and volume, and \\(P_2\\) and \\(V_2\\) are the final pressure and volume, respectively.\n",
            "\n",
            "2. Charles's Law states that the volume of a gas is directly proportional to its absolute temperature, at constant pressure. In other words, as the temperature of a gas increases, its volume also increases, and vice versa. Mathematically, Charles's Law is expressed as:\n",
            "\n",
            "\\[ \\frac{V_1}{T_1} = \\frac{V_2}{T_2} \\]\n",
            "\n",
            "Where \\(V_1\\) and \\(T_1\\) are the initial volume and temperature, and \\(V_2\\) and \\(T_2\\) are the final volume and temperature, respectively.\n",
            "\n",
            "3. The combined gas law combines Boyle's and Charles's laws into a single equation that relates pressure, volume, and temperature of a gas. The combined gas law is expressed as:\n",
            "\n",
            "\\[ \\frac{P_1 \\cdot V_1}{T_1} = \\frac{P_2 \\cdot V_2}{T_2} \\]\n",
            "\n",
            "Where \\(P_1\\), \\(V_1\\), and \\(T_1\\) are the initial pressure, volume, and temperature, and \\(P_2\\), \\(V_2\\), and \\(T_2\\) are the final pressure, volume, and temperature, respectively.\n",
            "\n",
            "By using these gas laws, one can understand and predict the changes in pressure, volume, and temperature of an ideal gas under different conditions.\n",
            "                                        \n",
            "        \n",
            "        \n",
            "        \n"
          ]
        }
      ],
      "source": [
        "prompt.step_back_prompting(input_text=input_text)\n",
        "compiled_quality_prompt = prompt.compile()\n",
        "print(compiled_quality_prompt)"
      ]
    },
    {
      "cell_type": "markdown",
      "metadata": {
        "id": "j9xd5IBV7OqA"
      },
      "source": [
        "### Test the compiled prompt"
      ]
    },
    {
      "cell_type": "code",
      "execution_count": 11,
      "metadata": {
        "id": "wLcID08J7OqA",
        "outputId": "1de585dc-f75e-40bb-80bf-a421c70ee48b",
        "colab": {
          "base_uri": "https://localhost:8080/"
        }
      },
      "outputs": [
        {
          "output_type": "stream",
          "name": "stdout",
          "text": [
            "To analyze the change in pressure of the ideal gas when the temperature is increased by a factor of 2 and the volume is increased by a factor of 8, we can use the combined gas law equation:\n",
            "\n",
            "\\[\\frac{P_1 \\cdot V_1}{T_1} = \\frac{P_2 \\cdot V_2}{T_2}\\]\n",
            "\n",
            "Let's denote the initial values as \\(P_1\\), \\(V_1\\), and \\(T_1\\), and the final values after the changes as \\(P_2\\), \\(V_2\\), and \\(T_2\\). Since the temperature is increased by a factor of 2 and the volume is increased by a factor of 8, we have:\n",
            "\n",
            "\\(T_2 = 2 \\times T_1 \\) and \\(V_2 = 8 \\times V_1 \\)\n",
            "\n",
            "Substitute these values into the combined gas law equation:\n",
            "\n",
            "\\[\\frac{P_1 \\cdot V_1}{T_1} = \\frac{P_2 \\cdot V_2}{T_2}\\]\n",
            "\n",
            "\\[\\frac{P_1 \\cdot V_1}{T_1} = \\frac{P_2 \\cdot 8V_1}{2T_1}\\]\n",
            "\n",
            "\\[\\frac{P_1 \\cdot V_1}{T_1} = \\frac{4P_2 \\cdot V_1}{T_1}\\]\n",
            "\n",
            "Now, we can simplify the equation:\n",
            "\n",
            "\\[P_1 = 4P_2\\]\n",
            "\n",
            "Thus, the pressure of the ideal gas will increase by a factor of 4 when the temperature is increased by a factor of 2 and the volume is increased by a factor of 8.\n"
          ]
        }
      ],
      "source": [
        "messages = [{\"role\" : \"system\", \"content\" : compiled_quality_prompt},\n",
        "            {\"role\" : \"user\", \"content\" : input_text}]\n",
        "response = llm_call(messages)\n",
        "print(response)"
      ]
    },
    {
      "cell_type": "code",
      "source": [],
      "metadata": {
        "id": "uoGluYGB7gbU"
      },
      "execution_count": 11,
      "outputs": []
    }
  ],
  "metadata": {
    "kernelspec": {
      "display_name": "base",
      "language": "python",
      "name": "python3"
    },
    "language_info": {
      "codemirror_mode": {
        "name": "ipython",
        "version": 3
      },
      "file_extension": ".py",
      "mimetype": "text/x-python",
      "name": "python",
      "nbconvert_exporter": "python",
      "pygments_lexer": "ipython3",
      "version": "3.10.9"
    },
    "colab": {
      "provenance": []
    }
  },
  "nbformat": 4,
  "nbformat_minor": 0
}