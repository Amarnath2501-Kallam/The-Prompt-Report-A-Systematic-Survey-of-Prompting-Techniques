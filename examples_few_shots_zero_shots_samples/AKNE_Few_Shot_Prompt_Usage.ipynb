{
  "cells": [
    {
      "cell_type": "markdown",
      "metadata": {
        "id": "REO3KvrP2bZ-"
      },
      "source": [
        "<a target=\"_blank\" href=\"https://colab.research.google.com/github/sarthakrastogi/quality-prompts/blob/main/examples/few_shot_prompt_usage.ipynb\">\n",
        "  <img src=\"https://colab.research.google.com/assets/colab-badge.svg\" alt=\"Open In Colab\"/>\n",
        "</a>"
      ]
    },
    {
      "cell_type": "code",
      "execution_count": 17,
      "metadata": {
        "id": "bjOyFSSe2bZ_"
      },
      "outputs": [],
      "source": [
        "%%capture\n",
        "!pip install quality-prompts"
      ]
    },
    {
      "cell_type": "code",
      "execution_count": 18,
      "metadata": {
        "id": "yglmN56v2baA"
      },
      "outputs": [],
      "source": [
        "import requests\n",
        "import json\n",
        "import os\n",
        "\n",
        "from quality_prompts.prompt import QualityPrompt\n",
        "from quality_prompts.exemplars import ExemplarStore, Exemplar\n",
        "from quality_prompts.utils.llm import get_embedding"
      ]
    },
    {
      "cell_type": "code",
      "execution_count": 19,
      "metadata": {
        "id": "I9VGWetK2baA"
      },
      "outputs": [],
      "source": [
        "os.environ['OPENAI_API_KEY'] = \"YOUR_KEY_GOES_HERE\""
      ]
    },
    {
      "cell_type": "markdown",
      "metadata": {
        "id": "749nV_xN2baA"
      },
      "source": [
        "### Initialise sample exemplars for use in few-shot prompt"
      ]
    },
    {
      "cell_type": "code",
      "execution_count": 20,
      "metadata": {
        "id": "aoIOWr5_2baA"
      },
      "outputs": [],
      "source": [
        "url = \"https://github.com/Amarnath2501-Kallam/The-Prompt-Report-A-Systematic-Survey-of-Prompting-Techniques/raw/main/examples_few_shots_zero_shots_samples/sample_exemplars.json\"\n",
        "response = requests.get(url)\n",
        "sample_exemplars = json.loads(response.text)\n",
        "\n",
        "exemplars = [Exemplar(input=e['input'], label=str(e['label']), input_embedding=get_embedding(e['input'])) for e in sample_exemplars]\n",
        "exemplar_store = ExemplarStore(exemplars=exemplars)"
      ]
    },
    {
      "cell_type": "markdown",
      "metadata": {
        "id": "-jD3XImQ2baA"
      },
      "source": [
        "### Define your prompt's components and initialise it"
      ]
    },
    {
      "cell_type": "code",
      "execution_count": 21,
      "metadata": {
        "id": "D8XfhSDW2baB"
      },
      "outputs": [],
      "source": [
        "directive = \"\"\"You are given a document and your task is to create a knowledge graph from it.\"\"\"\n",
        "\n",
        "additional_information = \"\"\"\n",
        "In the knowledge graph, entities such as people, places, objects, institutions, topics, ideas, etc. are represented as nodes.\n",
        "Whereas the relationships and actions between them are represented as edges.\n",
        "\"\"\"\n",
        "\n",
        "output_formatting = \"\"\"\n",
        "You will respond with a knowledge graph in the given JSON format:\n",
        "\n",
        "[\n",
        "    {\"entity\" : \"Entity_name\", \"connections\" : [\n",
        "        {\"entity\" : \"Connected_entity_1\", \"relationship\" : \"Relationship_with_connected_entity_1},\n",
        "        {\"entity\" : \"Connected_entity_2\", \"relationship\" : \"Relationship_with_connected_entity_2},\n",
        "        ]\n",
        "    },\n",
        "    {\"entity\" : \"Entity_name\", \"connections\" : [\n",
        "        {\"entity\" : \"Connected_entity_1\", \"relationship\" : \"Relationship_with_connected_entity_1},\n",
        "        {\"entity\" : \"Connected_entity_2\", \"relationship\" : \"Relationship_with_connected_entity_2},\n",
        "        ]\n",
        "    },\n",
        "]\n",
        "\n",
        "You must strictly respond in the given JSON format or your response will not be parsed correctly!\n",
        "\"\"\"\n",
        "\n",
        "prompt = QualityPrompt(\n",
        "                        directive=directive,\n",
        "                        additional_information=additional_information,\n",
        "                        output_formatting=output_formatting,\n",
        "                        exemplar_store=exemplar_store\n",
        "                       )"
      ]
    },
    {
      "cell_type": "code",
      "execution_count": 22,
      "metadata": {
        "id": "xuHZRfxd2baB"
      },
      "outputs": [],
      "source": [
        "input_text = \"list the disorders included in cvd\""
      ]
    },
    {
      "cell_type": "markdown",
      "metadata": {
        "id": "JY0RUGxM2baB"
      },
      "source": [
        "### Apply few-shot prompting\n",
        "\n",
        "This searches through your set of exemplars and uses kNN to search the most relevant exemplars to be included in context."
      ]
    },
    {
      "cell_type": "code",
      "execution_count": 23,
      "metadata": {
        "id": "DBb9jKmL2baC"
      },
      "outputs": [],
      "source": [
        "prompt.few_shot(input_text=input_text, n_shots=2)"
      ]
    },
    {
      "cell_type": "code",
      "execution_count": 24,
      "metadata": {
        "id": "hwvgLJcb2baC",
        "outputId": "cfb5fafd-b235-4462-d6a1-80633d7908fc",
        "colab": {
          "base_uri": "https://localhost:8080/"
        }
      },
      "outputs": [
        {
          "output_type": "stream",
          "name": "stdout",
          "text": [
            "Exemplar #1: exemplar.input, exemplar.label\n",
            "Exemplar #2: exemplar.input, exemplar.label\n"
          ]
        }
      ],
      "source": [
        "# check the relevant exemplars searched for the user's query\n",
        "\n",
        "for i, exemplar in enumerate(prompt.few_shot_examples):\n",
        "    print(f\"Exemplar #{i+1}: exemplar.input, exemplar.label\")"
      ]
    },
    {
      "cell_type": "markdown",
      "metadata": {
        "id": "ty-ylD722baC"
      },
      "source": [
        "### Apply one of several Chain of Thought Techniques"
      ]
    },
    {
      "cell_type": "code",
      "execution_count": 25,
      "metadata": {
        "id": "WCS7kltr2baC"
      },
      "outputs": [],
      "source": [
        "prompt.system2attenton(input_text=input_text)"
      ]
    },
    {
      "cell_type": "markdown",
      "metadata": {
        "id": "jfQdQw9Y2baC"
      },
      "source": [
        "### Apply other prompting techniques"
      ]
    },
    {
      "cell_type": "code",
      "execution_count": 26,
      "metadata": {
        "id": "0r8-vSqn2baC"
      },
      "outputs": [],
      "source": [
        "prompt.system2attenton(input_text=input_text)"
      ]
    },
    {
      "cell_type": "markdown",
      "metadata": {
        "id": "C0Kfd6dI2baC"
      },
      "source": [
        "### Finally compile your prompt for use in an LLM"
      ]
    },
    {
      "cell_type": "code",
      "execution_count": 27,
      "metadata": {
        "id": "00z74M3x2baC",
        "outputId": "e7a21222-de9c-4e15-b995-1e4cea06597b",
        "colab": {
          "base_uri": "https://localhost:8080/"
        }
      },
      "outputs": [
        {
          "output_type": "stream",
          "name": "stdout",
          "text": [
            "You are given a document and your task is to create a knowledge graph from it.\n",
            "        In the knowledge graph, entities such as people, places, objects, institutions, topics, ideas, etc. are represented as nodes. Whereas the relationships and actions between them are represented as edges.\n",
            "        Example input: Cardiovascular disease (CVD) encompasses a spectrum of disorders involving the heart and vasculature, prominently including atherosclerosis, characterized by endothelial dysfunction and the accumulation of lipid-laden plaques. These pathophysiological processes often precipitate myocardial infarction and cerebrovascular accidents, arising from the rupture of vulnerable plaques and subsequent thrombogenesis.\n",
            "Example output: [{'entity': 'cardiovascular disease (cvd)', 'connections': [{'entity': 'heart', 'relationship': 'involves'}, {'entity': 'vasculature', 'relationship': 'involves'}, {'entity': 'atherosclerosis', 'relationship': 'associated disorder'}, {'entity': 'endothelial dysfunction', 'relationship': 'characteristic feature'}, {'entity': 'lipid-laden plaques', 'relationship': 'associated feature'}, {'entity': 'myocardial infarction', 'relationship': 'common complication'}, {'entity': 'cerebrovascular accidents', 'relationship': 'common complication'}, {'entity': 'plaque rupture', 'relationship': 'cause of complications'}, {'entity': 'thrombogenesis', 'relationship': 'subsequent process'}]}, {'entity': 'atherosclerosis', 'connections': [{'entity': 'endothelial dysfunction', 'relationship': 'causes'}, {'entity': 'lipid-laden plaques', 'relationship': 'result of'}, {'entity': 'plaque rupture', 'relationship': 'leads to complications'}]}]\n",
            "\n",
            "Example input: The epidemiological burden of cardiovascular disease underscores the imperative for ongoing research into genetic predispositions and the optimization of primary and secondary prevention strategies.Cardiovascular disease also significantly intersects with metabolic syndrome, wherein insulin resistance and visceral adiposity contribute to endothelial dysfunction and systemic inflammation, further accelerating atherogenic processes.\n",
            "Example output: [{'entity': 'cardiovascular disease', 'connections': [{'entity': 'research', 'relationship': 'ongoing research into genetic predispositions and prevention strategies'}, {'entity': 'metabolic syndrome', 'relationship': 'significantly intersects with'}]}, {'entity': 'metabolic syndrome', 'connections': [{'entity': 'insulin resistance', 'relationship': 'contributes to endothelial dysfunction and inflammation'}, {'entity': 'visceral adiposity', 'relationship': 'contributes to endothelial dysfunction and inflammation'}]}]\n",
            "\n",
            "        \n",
            "You will respond with a knowledge graph in the given JSON format:\n",
            "\n",
            "[\n",
            "    {\"entity\" : \"Entity_name\", \"connections\" : [\n",
            "        {\"entity\" : \"Connected_entity_1\", \"relationship\" : \"Relationship_with_connected_entity_1},\n",
            "        {\"entity\" : \"Connected_entity_2\", \"relationship\" : \"Relationship_with_connected_entity_2},\n",
            "        ]\n",
            "    },\n",
            "    {\"entity\" : \"Entity_name\", \"connections\" : [\n",
            "        {\"entity\" : \"Connected_entity_1\", \"relationship\" : \"Relationship_with_connected_entity_1},\n",
            "        {\"entity\" : \"Connected_entity_2\", \"relationship\" : \"Relationship_with_connected_entity_2},\n",
            "        ]\n",
            "    },\n",
            "]\n",
            "\n",
            "You must strictly respond in the given JSON format or your response will not be parsed correctly!\n",
            "\n",
            "        \n"
          ]
        }
      ],
      "source": [
        "print(prompt.compile())"
      ]
    },
    {
      "cell_type": "code",
      "execution_count": null,
      "metadata": {
        "id": "diWbjoTm2baD"
      },
      "outputs": [],
      "source": []
    }
  ],
  "metadata": {
    "kernelspec": {
      "display_name": "base",
      "language": "python",
      "name": "python3"
    },
    "language_info": {
      "codemirror_mode": {
        "name": "ipython",
        "version": 3
      },
      "file_extension": ".py",
      "mimetype": "text/x-python",
      "name": "python",
      "nbconvert_exporter": "python",
      "pygments_lexer": "ipython3",
      "version": "3.10.9"
    },
    "colab": {
      "provenance": []
    }
  },
  "nbformat": 4,
  "nbformat_minor": 0
}